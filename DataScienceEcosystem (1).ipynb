{
 "cells": [
  {
   "cell_type": "markdown",
   "id": "fc1bd582-6642-43ba-843d-580da0fb1077",
   "metadata": {},
   "source": [
    "# Data Science Tools and Ecosystem"
   ]
  },
  {
   "cell_type": "markdown",
   "id": "f758c126-0db7-480d-8b86-d1649d4abcfe",
   "metadata": {},
   "source": [
    "In this notebook, Data Science Tools and Ecosystem are summarized."
   ]
  },
  {
   "cell_type": "markdown",
   "id": "7350cccc-28e4-4b6a-bc02-ed1c5952b89c",
   "metadata": {},
   "source": [
    "**Objectives :**\n",
    "\n",
    "List popular languages for Data Science\n",
    "* Python\n",
    "* R\n",
    "* Java \n",
    "* Scala \n",
    "* Julia\n",
    "\n",
    "List popular libraries of Data Science \n",
    "* Pandas\n",
    "* Sea born\n",
    "* Matplotlib\n",
    "* Keras\n",
    "* TensorFlow\n"
   ]
  },
  {
   "cell_type": "markdown",
   "id": "14e684f8-9a7d-4f13-8999-1bb82d16f5a6",
   "metadata": {},
   "source": [
    "Some of the popular languages that Data Scientists use are :\n",
    "1. Python\n",
    "2. R\n",
    "3. SQL\n",
    "4. Scala\n",
    "5. Java"
   ]
  },
  {
   "cell_type": "markdown",
   "id": "ef0d94e5-10a3-437a-9c14-ea95ca686129",
   "metadata": {},
   "source": [
    "Some of the commonly used libraries used by Data Scientists include :\n",
    "1. Pandas\n",
    "2. NumPy\n",
    "3. Keras \n",
    "4. TensorFlow\n",
    "5. Vegas\n"
   ]
  },
  {
   "cell_type": "markdown",
   "id": "324e4b14-ac9e-49f7-b431-c7c8df75e178",
   "metadata": {},
   "source": [
    "| Data Science Tools |\n",
    "| ------------------ |\n",
    "| Jupyter Notebook |\n",
    "| R studio |\n",
    "| Hadoop |\n"
   ]
  },
  {
   "cell_type": "markdown",
   "id": "1b8e5bad-0d9d-405d-9899-4d6fbbf31002",
   "metadata": {},
   "source": [
    "### Below are few examples of evaluation of arithematic expressions in Python"
   ]
  },
  {
   "cell_type": "code",
   "execution_count": 1,
   "id": "213e0422-1035-4dd5-8de1-7ac538e77c74",
   "metadata": {
    "tags": []
   },
   "outputs": [
    {
     "data": {
      "text/plain": [
       "17"
      ]
     },
     "execution_count": 1,
     "metadata": {},
     "output_type": "execute_result"
    }
   ],
   "source": [
    "# This a simple arithmetic expression to mutiply then add integers\n",
    "(3*4)+5"
   ]
  },
  {
   "cell_type": "code",
   "execution_count": 2,
   "id": "6a47e00a-3313-416e-adf5-e2cc16fd4013",
   "metadata": {
    "tags": []
   },
   "outputs": [
    {
     "data": {
      "text/plain": [
       "3.3333333333333335"
      ]
     },
     "execution_count": 2,
     "metadata": {},
     "output_type": "execute_result"
    }
   ],
   "source": [
    "# This will convert 200 minutes to hours by diving by 60\n",
    "200/60"
   ]
  },
  {
   "cell_type": "markdown",
   "id": "dea19b42-25cc-4113-bb76-897a7ef8c36f",
   "metadata": {},
   "source": [
    "## Author\n",
    "Neelabh Bhardwaj"
   ]
  }
 ],
 "metadata": {
  "kernelspec": {
   "display_name": "Python",
   "language": "python",
   "name": "conda-env-python-py"
  },
  "language_info": {
   "codemirror_mode": {
    "name": "ipython",
    "version": 3
   },
   "file_extension": ".py",
   "mimetype": "text/x-python",
   "name": "python",
   "nbconvert_exporter": "python",
   "pygments_lexer": "ipython3",
   "version": "3.7.12"
  }
 },
 "nbformat": 4,
 "nbformat_minor": 5
}
